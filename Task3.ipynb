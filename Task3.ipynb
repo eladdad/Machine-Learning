{
  "nbformat": 4,
  "nbformat_minor": 0,
  "metadata": {
    "colab": {
      "name": "Task3.ipynb",
      "version": "0.3.2",
      "provenance": [],
      "collapsed_sections": [],
      "toc_visible": true
    },
    "kernelspec": {
      "name": "python3",
      "display_name": "Python 3"
    },
    "accelerator": "GPU"
  },
  "cells": [
    {
      "metadata": {
        "id": "i3pzbfQZJyF2",
        "colab_type": "code",
        "colab": {}
      },
      "cell_type": "code",
      "source": [
        "import numpy as np\n",
        "import pandas as pd\n",
        "from sklearn.feature_extraction.text import TfidfTransformer\n",
        "from sklearn.feature_extraction.text import TfidfVectorizer\n",
        "from sklearn.model_selection import train_test_split\n",
        "from sklearn.neural_network import MLPClassifier\n",
        "import sklearn.metrics as metrics\n",
        "from sklearn.model_selection import GridSearchCV\n",
        "\n",
        "import itertools\n",
        "import matplotlib.pyplot as plt\n",
        "\n",
        "from sklearn.metrics import confusion_matrix"
      ],
      "execution_count": 0,
      "outputs": []
    },
    {
      "metadata": {
        "id": "6MY47RErvkIk",
        "colab_type": "text"
      },
      "cell_type": "markdown",
      "source": [
        "\n",
        "\n",
        "*   We read the dataset and print the number reviews with each different overall rating\n",
        "\n",
        "\n",
        "\n",
        "*   Then, we create a balanced dataset by taking only 2500 reviews of each overall rating\n",
        "\n",
        "\n",
        "\n"
      ]
    },
    {
      "metadata": {
        "id": "0bzLQBlZE0XP",
        "colab_type": "code",
        "outputId": "23932c04-28a7-4351-85d7-d68144655c79",
        "colab": {
          "base_uri": "https://localhost:8080/",
          "height": 119
        }
      },
      "cell_type": "code",
      "source": [
        "df = pd.read_json('Digital_Music_5.json',lines=True)\n",
        "\n",
        "print(df['overall'].value_counts())\n",
        "\n",
        "ratings = np.zeros(5)\n",
        "deleted = []\n",
        "for index,row in df.iterrows():\n",
        "  ratings[row['overall']-1] += 1\n",
        "  if ratings[row['overall']-1] >= 2500:\n",
        "    deleted.append(index)\n",
        "    \n",
        "df = df.drop(df.index[deleted])\n",
        "df = df.sample(frac=1).reset_index(drop=True)"
      ],
      "execution_count": 0,
      "outputs": [
        {
          "output_type": "stream",
          "text": [
            "5    35580\n",
            "4    16536\n",
            "3     6789\n",
            "2     3010\n",
            "1     2791\n",
            "Name: overall, dtype: int64\n"
          ],
          "name": "stdout"
        }
      ]
    },
    {
      "metadata": {
        "id": "O1A3Aq2o46rw",
        "colab_type": "text"
      },
      "cell_type": "markdown",
      "source": [
        "We select the 'reviewText' column as our input and the 'overall' as our output.\n",
        "\n",
        "The dataset is then splited into training and testsing sets with a ration of 4:1, and the TfIdf vectorizer is used to create 1D input vectors of size 40000, where each vector represents a review text by the TfIdf values of terms existing in it."
      ]
    },
    {
      "metadata": {
        "id": "apOXQTmnRTGT",
        "colab_type": "code",
        "colab": {}
      },
      "cell_type": "code",
      "source": [
        "X = df['reviewText']\n",
        "y = df['overall']\n",
        "\n",
        "X_train, X_test, y_train, y_test = train_test_split(X,y,test_size=0.2)\n",
        "\n",
        "tfidf_vectorizer = TfidfVectorizer(max_features=40000)\n",
        "X_train_transformed = tfidf_vectorizer.fit_transform(X_train)\n",
        "X_test_transformed = tfidf_vectorizer.transform(X_test)"
      ],
      "execution_count": 0,
      "outputs": []
    },
    {
      "metadata": {
        "id": "WRyKz3gV4umB",
        "colab_type": "text"
      },
      "cell_type": "markdown",
      "source": [
        "- We tried several architectures and the best one was having two layers with 128 and 512 neurons respectively. The worst one is {128, 512, 1024}.\n",
        "\n",
        "- Early stoping is used as a regularization method. The default ration between validation set and train set sizes is used (0.1).\n",
        "\n",
        "- The best scoring metric would be accuracy, since this is a classifier and we want to see how many datapoints in the test set the classifier will get correctly. Accuracy is also a good metric here since the dataset is balanced."
      ]
    },
    {
      "metadata": {
        "id": "UnUMft_4ymlD",
        "colab_type": "code",
        "outputId": "0aaf0543-6fe6-48c7-d8e6-794662887a99",
        "colab": {
          "base_uri": "https://localhost:8080/",
          "height": 34
        }
      },
      "cell_type": "code",
      "source": [
        "clf = MLPClassifier(\n",
        "    hidden_layer_sizes=(128,),\n",
        "    random_state=1,\n",
        "    early_stopping=True)\n",
        "\n",
        "clf.n_outputs_ = 5\n",
        "\n",
        "clf.fit(X_train_transformed, y_train)\n",
        "\n",
        "\n",
        "\n",
        "predicted_targets = clf.predict(X_test_transformed)\n",
        "\n",
        "print(metrics.accuracy_score(predicted_targets, y_test))"
      ],
      "execution_count": 0,
      "outputs": [
        {
          "output_type": "stream",
          "text": [
            "0.6162464985994398\n"
          ],
          "name": "stdout"
        }
      ]
    },
    {
      "metadata": {
        "id": "37UP3gSBW3YC",
        "colab_type": "code",
        "outputId": "e7583afe-f6f5-48a1-8fc0-28302e967e37",
        "colab": {
          "base_uri": "https://localhost:8080/",
          "height": 34
        }
      },
      "cell_type": "code",
      "source": [
        "clf = MLPClassifier(\n",
        "    hidden_layer_sizes=(512,),\n",
        "    random_state=1,\n",
        "    early_stopping=True)\n",
        "\n",
        "clf.n_outputs_ = 5\n",
        "\n",
        "clf.fit(X_train_transformed, y_train)\n",
        "\n",
        "\n",
        "\n",
        "predicted_targets = clf.predict(X_test_transformed)\n",
        "\n",
        "print(metrics.accuracy_score(predicted_targets, y_test))"
      ],
      "execution_count": 0,
      "outputs": [
        {
          "output_type": "stream",
          "text": [
            "0.6234493797519007\n"
          ],
          "name": "stdout"
        }
      ]
    },
    {
      "metadata": {
        "id": "UR-A77tbI2Af",
        "colab_type": "code",
        "outputId": "6f3765e7-849d-4b62-ba71-037b27945f43",
        "colab": {
          "base_uri": "https://localhost:8080/",
          "height": 34
        }
      },
      "cell_type": "code",
      "source": [
        "clf = MLPClassifier(\n",
        "    hidden_layer_sizes=(1024,),\n",
        "    random_state=1,\n",
        "    early_stopping=True)\n",
        "\n",
        "clf.n_outputs_ = 5\n",
        "\n",
        "clf.fit(X_train_transformed, y_train)\n",
        "\n",
        "predicted_targets = clf.predict(X_test_transformed)\n",
        "\n",
        "print(metrics.accuracy_score(predicted_targets, y_test))"
      ],
      "execution_count": 0,
      "outputs": [
        {
          "output_type": "stream",
          "text": [
            "0.6246498599439776\n"
          ],
          "name": "stdout"
        }
      ]
    },
    {
      "metadata": {
        "id": "nikCv6MaONdm",
        "colab_type": "code",
        "outputId": "94ccfbf2-8631-4629-8e98-9fd6eec293f3",
        "colab": {
          "base_uri": "https://localhost:8080/",
          "height": 34
        }
      },
      "cell_type": "code",
      "source": [
        "clf = MLPClassifier(\n",
        "    hidden_layer_sizes=(128,512,),\n",
        "    random_state=1,\n",
        "    early_stopping=True)\n",
        "\n",
        "clf.n_outputs_ = 5\n",
        "\n",
        "clf.fit(X_train_transformed, y_train)\n",
        "\n",
        "predicted_targets = clf.predict(X_test_transformed)\n",
        "\n",
        "print(metrics.accuracy_score(predicted_targets, y_test))"
      ],
      "execution_count": 0,
      "outputs": [
        {
          "output_type": "stream",
          "text": [
            "0.6266506602641057\n"
          ],
          "name": "stdout"
        }
      ]
    },
    {
      "metadata": {
        "id": "j7Th9a4lO27m",
        "colab_type": "code",
        "outputId": "bf4b8b20-cd99-4dda-90a6-17566594fc6f",
        "colab": {
          "base_uri": "https://localhost:8080/",
          "height": 34
        }
      },
      "cell_type": "code",
      "source": [
        "clf = MLPClassifier(\n",
        "    hidden_layer_sizes=(512,128),\n",
        "    random_state=1,\n",
        "    early_stopping=True)\n",
        "\n",
        "clf.n_outputs_ = 5\n",
        "\n",
        "clf.fit(X_train_transformed, y_train)\n",
        "\n",
        "y_pred = clf.predict(X_test_transformed)\n",
        "\n",
        "print(metrics.accuracy_score(y_pred, y_test))"
      ],
      "execution_count": 0,
      "outputs": [
        {
          "output_type": "stream",
          "text": [
            "0.5994397759103641\n"
          ],
          "name": "stdout"
        }
      ]
    },
    {
      "metadata": {
        "id": "b0mIbJ-d2Z19",
        "colab_type": "code",
        "outputId": "7e395110-fe38-4367-8520-ffbb716b6faf",
        "colab": {
          "base_uri": "https://localhost:8080/",
          "height": 34
        }
      },
      "cell_type": "code",
      "source": [
        "clf = MLPClassifier(\n",
        "    hidden_layer_sizes=(128,512,1024,),\n",
        "    random_state=1,\n",
        "    early_stopping=True)\n",
        "\n",
        "clf.n_outputs_ = 5\n",
        "\n",
        "clf.fit(X_train_transformed, y_train)\n",
        "\n",
        "predicted_targets = clf.predict(X_test_transformed)\n",
        "\n",
        "print(metrics.accuracy_score(predicted_targets, y_test))"
      ],
      "execution_count": 0,
      "outputs": [
        {
          "output_type": "stream",
          "text": [
            "0.584233693477391\n"
          ],
          "name": "stdout"
        }
      ]
    },
    {
      "metadata": {
        "id": "FFt9Y3Mw2d99",
        "colab_type": "code",
        "outputId": "a6d21234-2f32-449e-9fa7-8bf46af6650f",
        "colab": {
          "base_uri": "https://localhost:8080/",
          "height": 34
        }
      },
      "cell_type": "code",
      "source": [
        "clf = MLPClassifier(\n",
        "    hidden_layer_sizes=(1024,512,128,),\n",
        "    random_state=1,\n",
        "    early_stopping=True)\n",
        "\n",
        "clf.n_outputs_ = 5\n",
        "\n",
        "clf.fit(X_train_transformed, y_train)\n",
        "\n",
        "predicted_targets = clf.predict(X_test_transformed)\n",
        "\n",
        "print(metrics.accuracy_score(predicted_targets, y_test))"
      ],
      "execution_count": 0,
      "outputs": [
        {
          "output_type": "stream",
          "text": [
            "0.6066426570628252\n"
          ],
          "name": "stdout"
        }
      ]
    },
    {
      "metadata": {
        "id": "4rtforlPw7iO",
        "colab_type": "text"
      },
      "cell_type": "markdown",
      "source": [
        "We plot the confusion matrix. It is apparent that the values at both ends of the rating range have higher accuracy than values in the middle.\n",
        "\n",
        "This might be due to the fact that values in the middle are more prone to be confused with values around them."
      ]
    },
    {
      "metadata": {
        "id": "NLv56YkQvzOE",
        "colab_type": "code",
        "outputId": "a5535264-fad0-4d27-ec62-e1169b79863b",
        "colab": {
          "base_uri": "https://localhost:8080/",
          "height": 989
        }
      },
      "cell_type": "code",
      "source": [
        "class_names={1,2,3,4,5}\n",
        "def plot_confusion_matrix(cm, classes,\n",
        "                          normalize=False,\n",
        "                          title='Confusion matrix',\n",
        "                          cmap=plt.cm.Blues):\n",
        "    \"\"\"\n",
        "    This function prints and plots the confusion matrix.\n",
        "    Normalization can be applied by setting `normalize=True`.\n",
        "    \"\"\"\n",
        "    if normalize:\n",
        "        cm = cm.astype('float') / cm.sum(axis=1)[:, np.newaxis]\n",
        "        print(\"Normalized confusion matrix\")\n",
        "    else:\n",
        "        print('Confusion matrix, without normalization')\n",
        "\n",
        "    print(cm)\n",
        "\n",
        "    plt.imshow(cm, interpolation='nearest', cmap=cmap)\n",
        "    plt.title(title)\n",
        "    plt.colorbar()\n",
        "    tick_marks = np.arange(len(classes))\n",
        "    plt.xticks(tick_marks, classes, rotation=45)\n",
        "    plt.yticks(tick_marks, classes)\n",
        "\n",
        "    fmt = '.2f' if normalize else 'd'\n",
        "    thresh = cm.max() / 2.\n",
        "    for i, j in itertools.product(range(cm.shape[0]), range(cm.shape[1])):\n",
        "        plt.text(j, i, format(cm[i, j], fmt),\n",
        "                 horizontalalignment=\"center\",\n",
        "                 color=\"white\" if cm[i, j] > thresh else \"black\")\n",
        "\n",
        "    plt.ylabel('True label')\n",
        "    plt.xlabel('Predicted label')\n",
        "    plt.tight_layout()\n",
        "    \n",
        "# Compute confusion matrix\n",
        "cnf_matrix = confusion_matrix(y_test, predicted_targets)\n",
        "np.set_printoptions(precision=2)\n",
        "\n",
        "# Plot non-normalized confusion matrix\n",
        "plt.figure()\n",
        "plot_confusion_matrix(cnf_matrix, classes=class_names,\n",
        "                      title='Confusion matrix, without normalization')\n",
        "\n",
        "# Plot normalized confusion matrix\n",
        "plt.figure()\n",
        "plot_confusion_matrix(cnf_matrix, classes=class_names, normalize=True,\n",
        "                      title='Normalized confusion matrix')\n",
        "\n",
        "plt.show()"
      ],
      "execution_count": 0,
      "outputs": [
        {
          "output_type": "stream",
          "text": [
            "Confusion matrix, without normalization\n",
            "[[334  98  21   8  13]\n",
            " [114 278  83  20  13]\n",
            " [ 17  98 216 122  29]\n",
            " [  6  21  79 316  88]\n",
            " [ 11   7  11  74 422]]\n",
            "Normalized confusion matrix\n",
            "[[0.7  0.21 0.04 0.02 0.03]\n",
            " [0.22 0.55 0.16 0.04 0.03]\n",
            " [0.04 0.2  0.45 0.25 0.06]\n",
            " [0.01 0.04 0.15 0.62 0.17]\n",
            " [0.02 0.01 0.02 0.14 0.8 ]]\n"
          ],
          "name": "stdout"
        },
        {
          "output_type": "display_data",
          "data": {
            "image/png": "[encoded data removed]",
            "text/plain": [
              "<matplotlib.figure.Figure at 0x7fb3b53df5c0>"
            ]
          },
          "metadata": {
            "tags": []
          }
        },
        {
          "output_type": "display_data",
          "data": {
            "image/png": "[encoded data removed]",
            "text/plain": [
              "<matplotlib.figure.Figure at 0x7fb3b5a2fb00>"
            ]
          },
          "metadata": {
            "tags": []
          }
        }
      ]
    },
    {
      "metadata": {
        "id": "av4-eCsF7J_t",
        "colab_type": "text"
      },
      "cell_type": "markdown",
      "source": [
        "The output activation function is softmax. sklearn determines this function automatically based on the number of outputs, it uses sigmoid for binary classification and softmax for multi-class classification. \n",
        "\n",
        "http://scikit-learn.org/stable/modules/neural_networks_supervised.html#mathematical-formulation"
      ]
    },
    {
      "metadata": {
        "id": "YUJgHfsr68pd",
        "colab_type": "code",
        "outputId": "f6f4f686-b74c-45f1-d4f7-2a5f7363e280",
        "colab": {
          "base_uri": "https://localhost:8080/",
          "height": 34
        }
      },
      "cell_type": "code",
      "source": [
        "print(clf.out_activation_)"
      ],
      "execution_count": 0,
      "outputs": [
        {
          "output_type": "stream",
          "text": [
            "softmax\n"
          ],
          "name": "stdout"
        }
      ]
    },
    {
      "metadata": {
        "id": "oFwXbmv1-9O2",
        "colab_type": "text"
      },
      "cell_type": "markdown",
      "source": [
        "# **Bonus :**\n",
        "\n",
        "Printing some of the predicted values and the actual ones from the test set."
      ]
    },
    {
      "metadata": {
        "id": "UsYxThua8TKH",
        "colab_type": "code",
        "outputId": "d624d56a-594c-4eb0-e268-e82c97d10351",
        "colab": {
          "base_uri": "https://localhost:8080/",
          "height": 1717
        }
      },
      "cell_type": "code",
      "source": [
        "for i in range(0,100):\n",
        "  print (predicted_targets[i], y_test.values[i])"
      ],
      "execution_count": 0,
      "outputs": [
        {
          "output_type": "stream",
          "text": [
            "2 2\n",
            "4 3\n",
            "5 5\n",
            "5 4\n",
            "1 1\n",
            "1 1\n",
            "5 5\n",
            "1 1\n",
            "1 1\n",
            "1 1\n",
            "4 2\n",
            "3 4\n",
            "5 5\n",
            "1 1\n",
            "5 5\n",
            "2 3\n",
            "3 3\n",
            "1 2\n",
            "2 3\n",
            "5 5\n",
            "2 2\n",
            "5 5\n",
            "2 1\n",
            "4 4\n",
            "1 1\n",
            "4 5\n",
            "5 5\n",
            "2 2\n",
            "2 2\n",
            "5 3\n",
            "2 2\n",
            "5 4\n",
            "5 5\n",
            "5 5\n",
            "1 1\n",
            "2 4\n",
            "5 5\n",
            "2 1\n",
            "3 3\n",
            "5 5\n",
            "1 1\n",
            "4 5\n",
            "4 5\n",
            "3 3\n",
            "5 5\n",
            "1 1\n",
            "1 1\n",
            "2 1\n",
            "3 3\n",
            "4 4\n",
            "2 1\n",
            "3 1\n",
            "1 2\n",
            "2 2\n",
            "5 4\n",
            "5 5\n",
            "1 1\n",
            "4 1\n",
            "2 2\n",
            "4 3\n",
            "3 2\n",
            "2 2\n",
            "4 4\n",
            "3 4\n",
            "5 5\n",
            "2 2\n",
            "2 1\n",
            "4 4\n",
            "1 2\n",
            "4 4\n",
            "4 4\n",
            "5 5\n",
            "5 4\n",
            "2 2\n",
            "4 4\n",
            "2 2\n",
            "4 4\n",
            "2 2\n",
            "5 5\n",
            "3 3\n",
            "5 4\n",
            "1 1\n",
            "5 3\n",
            "3 3\n",
            "2 1\n",
            "3 3\n",
            "5 5\n",
            "5 5\n",
            "5 3\n",
            "1 1\n",
            "1 2\n",
            "4 5\n",
            "4 3\n",
            "1 1\n",
            "3 3\n",
            "3 2\n",
            "5 5\n",
            "3 3\n",
            "5 3\n",
            "4 4\n"
          ],
          "name": "stdout"
        }
      ]
    },
    {
      "metadata": {
        "id": "zULWOmUU_Ndz",
        "colab_type": "text"
      },
      "cell_type": "markdown",
      "source": [
        "Some of the reasons we think the network fails :\n",
        "\n",
        "- Values in the middle need more representation in the dataset to make the network better at recognizing them.\n",
        "\n",
        "- Stopwords (e.g. in, the, of ) need to be removed from the dataset because they are probably affecting the networks's accuracy.\n",
        "\n",
        "- All text should be converted to lower case, that way words like 'Good' and 'good' are seen as one word.\n",
        "\n",
        "In the following code cells, we implement those suggestions :"
      ]
    },
    {
      "metadata": {
        "id": "EEnvJH2HvRrS",
        "colab_type": "code",
        "outputId": "de08ab32-3ec5-4f4a-e150-8fe904bc7aec",
        "colab": {
          "base_uri": "https://localhost:8080/",
          "height": 51
        }
      },
      "cell_type": "code",
      "source": [
        "import nltk\n",
        "nltk.download('stopwords')\n",
        "from nltk.corpus import stopwords\n",
        "stop = stopwords.words('english')"
      ],
      "execution_count": 0,
      "outputs": [
        {
          "output_type": "stream",
          "text": [
            "[nltk_data] Downloading package stopwords to /root/nltk_data...\n",
            "[nltk_data]   Package stopwords is already up-to-date!\n"
          ],
          "name": "stdout"
        }
      ]
    },
    {
      "metadata": {
        "id": "0PLOCwmPwOLw",
        "colab_type": "code",
        "colab": {}
      },
      "cell_type": "code",
      "source": [
        "df = pd.read_json('Digital_Music_5.json',lines=True)\n",
        "\n",
        "newDf = df[df['overall']==1.0].head(2500)\n",
        "newDf = newDf.append(df[df['overall']==2.0].head(3000),ignore_index=True)\n",
        "newDf = newDf.append(df[df['overall']==3.0].head(3000),ignore_index=True)\n",
        "newDf = newDf.append(df[df['overall']==4.0].head(3000),ignore_index=True)\n",
        "newDf = newDf.append(df[df['overall']==5.0].head(2500),ignore_index=True)\n",
        "\n",
        "df = newDf.sample(frac=1).reset_index(drop=True)"
      ],
      "execution_count": 0,
      "outputs": []
    },
    {
      "metadata": {
        "id": "4gFeXtr_ybgY",
        "colab_type": "code",
        "colab": {}
      },
      "cell_type": "code",
      "source": [
        "X = df['reviewText']\n",
        "\n",
        "X = X.apply(lambda x: ' '.join([word for word in x.lower().split() if word not in (stop)]))\n",
        "\n",
        "y = df['overall']\n",
        "\n",
        "X_train, X_test, y_train, y_test = train_test_split(X,y,test_size=0.2)\n",
        "\n",
        "tfidf_vectorizer = TfidfVectorizer(max_features=40000)\n",
        "X_train_transformed = tfidf_vectorizer.fit_transform(X_train)\n",
        "X_test_transformed = tfidf_vectorizer.transform(X_test)"
      ],
      "execution_count": 0,
      "outputs": []
    },
    {
      "metadata": {
        "id": "bZ90mbYEE7Kc",
        "colab_type": "code",
        "outputId": "18a716d0-c7a7-4277-893c-8c9bbbb1cd09",
        "colab": {
          "base_uri": "https://localhost:8080/",
          "height": 1071
        }
      },
      "cell_type": "code",
      "source": [
        "print(X)"
      ],
      "execution_count": 0,
      "outputs": [
        {
          "output_type": "stream",
          "text": [
            "0        really buy dmx's religious beliefs, especially...\n",
            "1        album, roy sounds substantially years ago. nev...\n",
            "2        stevie wonder / innervisions: landmark masterp...\n",
            "3        one cool j's best singles, song delivered time...\n",
            "4        released march 25th, 2003, meteora linkin park...\n",
            "5        personally,i never could stand country. i'm am...\n",
            "6        one day im enrique's, haunt billy used regular...\n",
            "7        want take break traditional country music, her...\n",
            "8        honestly, none songs memorable sounds slick we...\n",
            "9        sonny rollins - way west sacdi admit shocked s...\n",
            "10       nothing like getting hooked song first comes o...\n",
            "11       cant find one good song whole thing, ignore re...\n",
            "12       first all, new daft punk, mostly random access...\n",
            "13       although several songs aged well, majority alb...\n",
            "14       side one album top notch alice cooper; side tw...\n",
            "15       favorite teena marie album (tied \"robbery\") mu...\n",
            "16       picked one bargain bin way released. liked eur...\n",
            "17       think people even talking album anymore injust...\n",
            "18       sometimes look heroic icons within pop music, ...\n",
            "19       \"all eyez me\" nice album, especially first dis...\n",
            "20       jewel's supposed poverty millions hearts back ...\n",
            "21       daz's debut solo average release. moments draw...\n",
            "22       anyone remember candlebox? do, fact, first tim...\n",
            "23       can't listen way through. infact, half songs p...\n",
            "24       sense humor something rare entirely unheard wo...\n",
            "25       high school, junior year, 1985. &quot;freedom&...\n",
            "26       got hands \"poison\" 8 years ago bought cheap us...\n",
            "27       ...i would stay away. i'm fan 80s, remembered ...\n",
            "28       squeeze-singles/45's under: one england's soph...\n",
            "29       man, i've never delighted south hip-hop album ...\n",
            "                               ...                        \n",
            "13970    marvin gaye without doubt one greatest singing...\n",
            "13971    $hort dog's best album, without doubt. albums ...\n",
            "13972    f1*ian gillan got fired (again) album, see why...\n",
            "13973    celly cel really thug thang album! throws comp...\n",
            "13974    whenever hear someone praise $.50 (or corporat...\n",
            "13975    content: 4 stars; sound quality: 2 stars = ove...\n",
            "13976    album awsome. slightly pop sound still great a...\n",
            "13977    can't greatest hits cd. even close. gods green...\n",
            "13978    another corny ass dance song hialeah soccer mo...\n",
            "13979    first all, really like norah jones. mean, real...\n",
            "13980    people compare &quot;the one&quot; &quot;the b...\n",
            "13981    man, never stops. thing would even make nu-met...\n",
            "13982    aerosmith's worst release, one worst cds time....\n",
            "13983    huffman lost touch, celebrity wanabee going he...\n",
            "13984    first heard album blown away. hot hell. even t...\n",
            "13985    ah, carlton, sit down. album titled nobody. qu...\n",
            "13986    antics incredibly disappointing. interpol's fi...\n",
            "13987    peaking number 22 1976 first hit \"love really ...\n",
            "13988    first bought album listened straight through, ...\n",
            "13989    fun, poppy chorus energetic ultimately, song k...\n",
            "13990    unbelievable might sound, i've rooting michael...\n",
            "13991    -the band finally caved label's insistence &qu...\n",
            "13992    title album exactly feeling listening album. e...\n",
            "13993    using free downloads say wasting free download...\n",
            "13994    \"face music\" (1975) fine album jeff lynne & co...\n",
            "13995    album good. lyrics r different albums. looking...\n",
            "13996    building perfect beast peak music technology 1...\n",
            "13997    ten songs elton john's glory years 1974 compil...\n",
            "13998    got week came out, seriously cannot believe go...\n",
            "13999    classic album. one favorite time. cd good feel...\n",
            "Name: reviewText, Length: 14000, dtype: object\n"
          ],
          "name": "stdout"
        }
      ]
    },
    {
      "metadata": {
        "id": "XWCz5K95AvE4",
        "colab_type": "code",
        "outputId": "b6b4916f-81c5-4721-88e0-4d134173cb62",
        "colab": {
          "base_uri": "https://localhost:8080/",
          "height": 34
        }
      },
      "cell_type": "code",
      "source": [
        "clf = MLPClassifier(\n",
        "    hidden_layer_sizes=(128,512,),\n",
        "    random_state=1,\n",
        "    early_stopping=True)\n",
        "\n",
        "clf.n_outputs_ = 5\n",
        "\n",
        "clf.fit(X_train_transformed, y_train)\n",
        "\n",
        "predicted_targets = clf.predict(X_test_transformed)\n",
        "\n",
        "print(metrics.accuracy_score(predicted_targets, y_test))"
      ],
      "execution_count": 0,
      "outputs": [
        {
          "output_type": "stream",
          "text": [
            "0.6003571428571428\n"
          ],
          "name": "stdout"
        }
      ]
    }
  ]
}