{
  "nbformat": 4,
  "nbformat_minor": 0,
  "metadata": {
    "colab": {
      "name": "Team 63.ipynb",
      "version": "0.3.2",
      "provenance": [],
      "collapsed_sections": [],
      "toc_visible": true
    },
    "kernelspec": {
      "name": "python3",
      "display_name": "Python 3"
    }
  },
  "cells": [
    {
      "metadata": {
        "id": "F-ROTsbzfLEp",
        "colab_type": "text"
      },
      "cell_type": "markdown",
      "source": [
        "# Data Preprocessing"
      ]
    },
    {
      "metadata": {
        "id": "ruCdWYszME24",
        "colab_type": "code",
        "outputId": "7848aacd-bc44-448e-ee0a-f82a64b8bb19",
        "colab": {
          "base_uri": "https://localhost:8080/",
          "height": 55
        }
      },
      "cell_type": "code",
      "source": [
        "from google.colab import drive\n",
        "drive.mount('/content/gdrive')"
      ],
      "execution_count": 0,
      "outputs": [
        {
          "output_type": "stream",
          "text": [
            "Drive already mounted at /content/gdrive; to attempt to forcibly remount, call drive.mount(\"/content/gdrive\", force_remount=True).\n"
          ],
          "name": "stdout"
        }
      ]
    },
    {
      "metadata": {
        "id": "te1Tw25iMFkh",
        "colab_type": "code",
        "outputId": "fa8e9160-7cf4-495f-9508-066742c80572",
        "colab": {
          "base_uri": "https://localhost:8080/",
          "height": 4326
        }
      },
      "cell_type": "code",
      "source": [
        "import nltk\n",
        "nltk.download()"
      ],
      "execution_count": 0,
      "outputs": [
        {
          "output_type": "stream",
          "text": [
            "NLTK Downloader\n",
            "---------------------------------------------------------------------------\n",
            "    d) Download   l) List    u) Update   c) Config   h) Help   q) Quit\n",
            "---------------------------------------------------------------------------\n",
            "Downloader> d\n",
            "\n"
          ],
          "name": "stdout"
        },
        {
          "output_type": "execute_result",
          "data": {
            "text/plain": [
              "True"
            ]
          },
          "metadata": {
            "tags": []
          },
          "execution_count": 2
        }
      ]
    },
    {
      "metadata": {
        "id": "OlRiFGrzMKnH",
        "colab_type": "code",
        "colab": {}
      },
      "cell_type": "code",
      "source": [
        "import pandas as pd\n",
        "import numpy as np\n",
        "from nltk.tokenize import TweetTokenizer\n",
        "from nltk.stem.snowball import SnowballStemmer as stem\n",
        "from nltk.corpus import stopwords\n",
        "import re\n",
        "from sklearn.metrics.pairwise import cosine_similarity as cos_sim\n",
        "from sklearn.feature_extraction.text import TfidfVectorizer, CountVectorizer\n",
        "from sklearn.model_selection import train_test_split"
      ],
      "execution_count": 0,
      "outputs": []
    },
    {
      "metadata": {
        "id": "wW2-CVOQiP3t",
        "colab_type": "text"
      },
      "cell_type": "markdown",
      "source": [
        "## Read Dataset"
      ]
    },
    {
      "metadata": {
        "id": "fW5RCeO1MM24",
        "colab_type": "code",
        "colab": {}
      },
      "cell_type": "code",
      "source": [
        "tweets = pd.read_csv('gdrive/My Drive/Datasets/Tweets.csv')"
      ],
      "execution_count": 0,
      "outputs": []
    },
    {
      "metadata": {
        "id": "zpVgrvNTlnsD",
        "colab_type": "text"
      },
      "cell_type": "markdown",
      "source": [
        "## Filteration"
      ]
    },
    {
      "metadata": {
        "id": "CioKu18ulmcx",
        "colab_type": "code",
        "outputId": "63bc12d4-f8eb-4406-ac29-f1e3dc257037",
        "colab": {
          "base_uri": "https://localhost:8080/",
          "height": 54
        }
      },
      "cell_type": "code",
      "source": [
        "print(\"Number of samples before filteration : \", tweets.shape[0])\n",
        "\n",
        "idx = []\n",
        "for i,t in tweets['text'].iteritems():\n",
        "  if (\"RT\" in t) or (len(t)<20):\n",
        "    idx.append(i)\n",
        "tweets = tweets.drop(idx)\n",
        "\n",
        "print(\"Number of samples after filteration : \", tweets.shape[0])"
      ],
      "execution_count": 0,
      "outputs": [
        {
          "output_type": "stream",
          "text": [
            "Number of samples before filteration :  14640\n",
            "Number of samples after filteration :  14365\n"
          ],
          "name": "stdout"
        }
      ]
    },
    {
      "metadata": {
        "id": "tpMFfuDBnIiY",
        "colab_type": "code",
        "colab": {}
      },
      "cell_type": "code",
      "source": [
        "text = tweets['text']\n",
        "y = tweets['airline_sentiment']"
      ],
      "execution_count": 0,
      "outputs": []
    },
    {
      "metadata": {
        "id": "RCqhYvgCidxN",
        "colab_type": "text"
      },
      "cell_type": "markdown",
      "source": [
        "## Normalize"
      ]
    },
    {
      "metadata": {
        "id": "CgqY1YX3MWtP",
        "colab_type": "code",
        "colab": {}
      },
      "cell_type": "code",
      "source": [
        "stemmer = stem('english')\n",
        "stop_words = set(stopwords.words('english'))\n",
        "punct = ['.',',']\n",
        "#Tokens = \n",
        "text = text.apply(lambda x: ' '.join([stemmer.stem(re.sub(r'http\\S+', '', word.lower())) for word in TweetTokenizer(strip_handles=True).tokenize(x) if (word[0] not in punct and word.lower() not in stop_words)]))"
      ],
      "execution_count": 0,
      "outputs": []
    },
    {
      "metadata": {
        "id": "T3rK7U9WRBCr",
        "colab_type": "text"
      },
      "cell_type": "markdown",
      "source": [
        "# Classification"
      ]
    },
    {
      "metadata": {
        "id": "q77D4HrPhypk",
        "colab_type": "code",
        "colab": {}
      },
      "cell_type": "code",
      "source": [
        "from sklearn.naive_bayes import MultinomialNB\n",
        "from sklearn.metrics import f1_score\n",
        "from sklearn.neighbors import KNeighborsClassifier\n",
        "from sklearn.ensemble import RandomForestClassifier\n",
        "from sklearn.model_selection import GridSearchCV"
      ],
      "execution_count": 0,
      "outputs": []
    },
    {
      "metadata": {
        "id": "Uz8HupJARG7Z",
        "colab_type": "text"
      },
      "cell_type": "markdown",
      "source": [
        "## Splitting data to training and testing"
      ]
    },
    {
      "metadata": {
        "id": "hNuW_5j3Q2Zz",
        "colab_type": "code",
        "colab": {}
      },
      "cell_type": "code",
      "source": [
        "X_train, X_test, y_train, y_test = train_test_split(text, y, test_size=0.2, random_state=0)\n",
        "scores = []\n",
        "\n",
        "vectorizer = TfidfVectorizer()\n",
        "\n",
        "X_train = vectorizer.fit_transform(X_train)\n",
        "X_test = vectorizer.transform(X_test)"
      ],
      "execution_count": 0,
      "outputs": []
    },
    {
      "metadata": {
        "id": "3f1cIU79Q3MZ",
        "colab_type": "text"
      },
      "cell_type": "markdown",
      "source": [
        "## Multinomial Naive Bayes Classifier"
      ]
    },
    {
      "metadata": {
        "id": "45EMO7UEQuaQ",
        "colab_type": "code",
        "outputId": "f3358197-bafe-45f0-eae6-1565943e6c0a",
        "colab": {
          "base_uri": "https://localhost:8080/",
          "height": 35
        }
      },
      "cell_type": "code",
      "source": [
        "clf = GridSearchCV(\n",
        "    MultinomialNB(),\n",
        "    param_grid = {'alpha': np.logspace(-2., 2., 50)})\n",
        "clf.fit(X_train, y_train)\n",
        "\n",
        "y_pred = clf.predict(X_test)\n",
        "scores.append(f1_score(y_test, y_pred, average=\"micro\"))\n",
        "\n",
        "print(clf.best_estimator_)"
      ],
      "execution_count": 0,
      "outputs": [
        {
          "output_type": "stream",
          "text": [
            "MultinomialNB(alpha=0.1151395399326447, class_prior=None, fit_prior=True)\n"
          ],
          "name": "stdout"
        }
      ]
    },
    {
      "metadata": {
        "id": "xeJgWfc5Zl98",
        "colab_type": "text"
      },
      "cell_type": "markdown",
      "source": [
        "## K Nearest Neighbors Classifier"
      ]
    },
    {
      "metadata": {
        "id": "o0qsjMnTPbRE",
        "colab_type": "code",
        "outputId": "0e2fdc80-12ee-479b-e158-dfc75d572aee",
        "colab": {
          "base_uri": "https://localhost:8080/",
          "height": 72
        }
      },
      "cell_type": "code",
      "source": [
        "neigh = GridSearchCV(\n",
        "    KNeighborsClassifier(),\n",
        "    param_grid = {'n_neighbors': [15, 20, 30 ,35, 40]})\n",
        "neigh.fit(X_train, y_train)\n",
        "y_pred = neigh.predict(X_test)\n",
        "scores.append(f1_score(y_test, y_pred, average=\"micro\"))\n",
        "\n",
        "print(neigh.best_estimator_)"
      ],
      "execution_count": 0,
      "outputs": [
        {
          "output_type": "stream",
          "text": [
            "KNeighborsClassifier(algorithm='auto', leaf_size=30, metric='minkowski',\n",
            "           metric_params=None, n_jobs=1, n_neighbors=40, p=2,\n",
            "           weights='uniform')\n"
          ],
          "name": "stdout"
        }
      ]
    },
    {
      "metadata": {
        "id": "lkaGvmbwZsCy",
        "colab_type": "text"
      },
      "cell_type": "markdown",
      "source": [
        "## Random Forest Classifier"
      ]
    },
    {
      "metadata": {
        "id": "rjME-Az8ZsXj",
        "colab_type": "code",
        "colab": {}
      },
      "cell_type": "code",
      "source": [
        "clf = RandomForestClassifier(n_estimators = 100, max_depth = 400, random_state = 0)\n",
        "clf.fit(X_train, y_train)\n",
        "y_pred = clf.predict(X_test)\n",
        "scores.append(f1_score(y_test, y_pred, average=\"micro\"))"
      ],
      "execution_count": 0,
      "outputs": []
    },
    {
      "metadata": {
        "id": "GALpU6zwangV",
        "colab_type": "text"
      },
      "cell_type": "markdown",
      "source": [
        "## Scores"
      ]
    },
    {
      "metadata": {
        "id": "JoruRQZ1aVrz",
        "colab_type": "code",
        "outputId": "ed4dc1a3-e25d-4e39-edc9-68a70cbf4d9d",
        "colab": {
          "base_uri": "https://localhost:8080/",
          "height": 72
        }
      },
      "cell_type": "code",
      "source": [
        "print(\"Multinomial Naive Bayes Classifier F1 Score =\", scores[0])\n",
        "print(\"K Nearest Neighbors Classifier F1 Score =\", scores[1])\n",
        "print(\"Random Forest Classifier F1 Score =\", scores[2])"
      ],
      "execution_count": 0,
      "outputs": [
        {
          "output_type": "stream",
          "text": [
            "Multinomial Naive Bayes Classifier F1 Score = 0.7473024712843718\n",
            "K Nearest Neighbors Classifier F1 Score = 0.7229376957883745\n",
            "Random Forest Classifier F1 Score = 0.7741037243299687\n"
          ],
          "name": "stdout"
        }
      ]
    }
  ]
}
